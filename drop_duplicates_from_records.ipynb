{
  "nbformat": 4,
  "nbformat_minor": 0,
  "metadata": {
    "colab": {
      "name": "분당_DXA_중복_제거",
      "provenance": []
    },
    "kernelspec": {
      "name": "python3",
      "display_name": "Python 3"
    }
  },
  "cells": [
    {
      "cell_type": "code",
      "metadata": {
        "id": "W_bW9PnzQ24j"
      },
      "source": [
        "import os\r\n",
        "import numpy as np\r\n",
        "import pandas as pd"
      ],
      "execution_count": 12,
      "outputs": []
    },
    {
      "cell_type": "markdown",
      "metadata": {
        "id": "Q_8c98H3mg36"
      },
      "source": [
        "###Step1. 파일을 읽어옵니다."
      ]
    },
    {
      "cell_type": "code",
      "metadata": {
        "id": "czU2zMuxRLKi"
      },
      "source": [
        "spine_raw = pd.read_excel(\"DXA_meta_included.xlsx\", sheet_name='spine', dtype={'patientID':str})\r\n",
        "left_raw = pd.read_excel(\"DXA_meta_included.xlsx\", sheet_name='left_femur', dtype={'patientID':str})\r\n",
        "right_raw = pd.read_excel(\"DXA_meta_included.xlsx\", sheet_name='right_femur', dtype={'patientID':str}) "
      ],
      "execution_count": 3,
      "outputs": []
    },
    {
      "cell_type": "markdown",
      "metadata": {
        "id": "vPNNN_JQmrRH"
      },
      "source": [
        "###Step2. 중복값 구분\r\n",
        "각 sheet마다 patientID와 StudyDate를 기준으로 하여 중복값이 있는 그룹과 없는 그룹으로 구분합니다."
      ]
    },
    {
      "cell_type": "code",
      "metadata": {
        "id": "73GNRTZCeaJ_"
      },
      "source": [
        "spine_no_dup = pd.DataFrame()\r\n",
        "spine_yes_dup = pd.DataFrame()\r\n",
        "for key, group in spine_raw.groupby(['patientID', 'StudyDate_x']):\r\n",
        "    if len(group)==1:\r\n",
        "        spine_no_dup = pd.concat([spine_no_dup, group])\r\n",
        "    else:\r\n",
        "        spine_yes_dup = pd.concat([spine_yes_dup, group])"
      ],
      "execution_count": 76,
      "outputs": []
    },
    {
      "cell_type": "code",
      "metadata": {
        "id": "eUgsOge2duXF"
      },
      "source": [
        "left_no_dup = pd.DataFrame()\r\n",
        "left_yes_dup = pd.DataFrame()\r\n",
        "for key, group in left_raw.groupby(['patientID', 'StudyDate_x']):\r\n",
        "    if len(group)==1:\r\n",
        "        left_no_dup = pd.concat([left_no_dup, group])\r\n",
        "    else:\r\n",
        "        left_yes_dup = pd.concat([left_yes_dup, group])"
      ],
      "execution_count": 72,
      "outputs": []
    },
    {
      "cell_type": "code",
      "metadata": {
        "id": "BGiLDLwoSAtt"
      },
      "source": [
        "right_no_dup = pd.DataFrame()\r\n",
        "right_yes_dup = pd.DataFrame()\r\n",
        "for key, group in right_raw.groupby(['patientID', 'StudyDate_x']):\r\n",
        "    if len(group)==1:\r\n",
        "        right_no_dup = pd.concat([right_no_dup, group])\r\n",
        "    else:\r\n",
        "        right_yes_dup = pd.concat([right_yes_dup, group])"
      ],
      "execution_count": 9,
      "outputs": []
    },
    {
      "cell_type": "code",
      "metadata": {
        "id": "0fJKI_KKd_e2"
      },
      "source": [
        "#'-'을 nan 값으로 교체 해줍니다.\r\n",
        "spine_yes_dup = spine_yes_dup.replace('-', np.nan)\r\n",
        "left_yes_dup = left_yes_dup.replace('-', np.nan)\r\n",
        "right_yes_dup = right_yes_dup.replace('-', np.nan)"
      ],
      "execution_count": 77,
      "outputs": []
    },
    {
      "cell_type": "markdown",
      "metadata": {
        "id": "lfL4JJoVnLZp"
      },
      "source": [
        "###Step3. 중복값 제거\r\n",
        "중복값 제거 기준<br>\r\n",
        "<dl>\r\n",
        "  <dt>- 모든 컬럼값이 동일한 경우: 랜덤으로 1개 레코드 선택\r\n",
        "  <dt>- 그렇지 않은 경우:\r\n",
        "    <dd>NULL개수가 차이가 나는 경우: NULL개수가 적은 레코드 선택</dd>\r\n",
        "    <dd>NULL개수가 차이가 없는 경우: 랜덤으로 1개 레코드 선택</dd>\r\n",
        "</dl> "
      ]
    },
    {
      "cell_type": "code",
      "metadata": {
        "id": "0lY-w4yyeme7"
      },
      "source": [
        "spine_drop_dup = pd.DataFrame()\r\n",
        "for key, group in spine_yes_dup.groupby(['patientID','StudyDate_x']):\r\n",
        "    g = group[group.columns[20:]]\r\n",
        "    g_no_dup = g.drop_duplicates()\r\n",
        "\r\n",
        "    if len(g_no_dup) == 1: #record가 완전 중복, 랜덤하게 하나 선택\r\n",
        "        spine_drop_dup = pd.concat([spine_drop_dup, group.head(1)])\r\n",
        "    else: # Nan이 적은 row로 랜덤하게 하나 선택\r\n",
        "        min_nan_count = min(g.isna().sum(axis=1).tolist())\r\n",
        "        select = g[g.isna().sum(axis=1) == min_nan_count]\r\n",
        "        spine_drop_dup = pd.concat([spine_drop_dup, group.loc[[select.head(1).index[0]]]])"
      ],
      "execution_count": 78,
      "outputs": []
    },
    {
      "cell_type": "code",
      "metadata": {
        "id": "zDUKU4fJeDPW"
      },
      "source": [
        "left_drop_dup = pd.DataFrame()\r\n",
        "for key, group in left_yes_dup.groupby(['patientID','StudyDate_x']):\r\n",
        "    g = group[group.columns[20:]]\r\n",
        "    g_no_dup = g.drop_duplicates()\r\n",
        "\r\n",
        "    if len(g_no_dup) == 1: #record가 완전 중복, 랜덤하게 하나 선택\r\n",
        "        left_drop_dup = pd.concat([left_drop_dup, group.head(1)])\r\n",
        "    else: # Nan이 적은 row로 랜덤하게 하나 선택\r\n",
        "        min_nan_count = min(g.isna().sum(axis=1).tolist())\r\n",
        "        select = g[g.isna().sum(axis=1) == min_nan_count]\r\n",
        "        left_drop_dup = pd.concat([left_drop_dup, group.loc[[select.head(1).index[0]]]])"
      ],
      "execution_count": 74,
      "outputs": []
    },
    {
      "cell_type": "code",
      "metadata": {
        "id": "k9AtFrMoUcc6"
      },
      "source": [
        "right_drop_dup = pd.DataFrame()\r\n",
        "for key, group in right_yes_dup.groupby(['patientID','StudyDate_x']):\r\n",
        "    g = group[group.columns[20:]]\r\n",
        "    g_no_dup = g.drop_duplicates()\r\n",
        "\r\n",
        "    if len(g_no_dup) == 1: #record가 완전 중복, 랜덤하게 하나 선택\r\n",
        "        right_drop_dup = pd.concat([right_drop_dup, group.head(1)])\r\n",
        "    else: # Nan이 적은 row로 랜덤하게 하나 선택\r\n",
        "        min_nan_count = min(g.isna().sum(axis=1).tolist())\r\n",
        "        select = g[g.isna().sum(axis=1) == min_nan_count]\r\n",
        "        right_drop_dup = pd.concat([right_drop_dup, group.loc[[select.head(1).index[0]]]])\r\n",
        "        \r\n"
      ],
      "execution_count": 68,
      "outputs": []
    },
    {
      "cell_type": "markdown",
      "metadata": {
        "id": "Y8OaEbwFo5RX"
      },
      "source": [
        "###Step4. 내보내기\r\n",
        "정리된 데이터들을 엑셀파일로 내보냅니다."
      ]
    },
    {
      "cell_type": "code",
      "metadata": {
        "id": "ydb43tVzdf-v"
      },
      "source": [
        "spine_final = pd.concat([spine_no_dup, spine_drop_dup])\r\n",
        "# left_final = pd.concat([left_no_dup, left_drop_dup])\r\n",
        "# right_final = pd.concat([right_no_dup, right_drop_dup])"
      ],
      "execution_count": 79,
      "outputs": []
    },
    {
      "cell_type": "code",
      "metadata": {
        "id": "RZqB5QpSizv2"
      },
      "source": [
        "with pd.ExcelWriter('SNUBH.xlsx') as o:\r\n",
        "    spine_final.to_excel(o, sheet_name='spine', index=False)\r\n",
        "    left_final.to_excel(o, sheet_name='left_femur', index=False)\r\n",
        "    right_final.to_excel(o, sheet_name='right_femur', index=False)"
      ],
      "execution_count": 83,
      "outputs": []
    },
    {
      "cell_type": "markdown",
      "metadata": {
        "id": "YKtedUkmpCIg"
      },
      "source": [
        "###Appendix: 확인하기\r\n",
        "patientID와 StudyDate를 키로 주었을 때 row가 unique한지 확인해봅니다."
      ]
    },
    {
      "cell_type": "code",
      "metadata": {
        "colab": {
          "base_uri": "https://localhost:8080/"
        },
        "id": "pmlmdqrddmgA",
        "outputId": "08dcc067-0716-4b19-efdf-5420cb3125ec"
      },
      "source": [
        "len(right_final)"
      ],
      "execution_count": 89,
      "outputs": [
        {
          "output_type": "execute_result",
          "data": {
            "text/plain": [
              "814"
            ]
          },
          "metadata": {
            "tags": []
          },
          "execution_count": 89
        }
      ]
    },
    {
      "cell_type": "code",
      "metadata": {
        "colab": {
          "base_uri": "https://localhost:8080/"
        },
        "id": "1E6ngB5slOlw",
        "outputId": "c9230839-c993-41b6-9f31-1617602e17f0"
      },
      "source": [
        "len(right_final[['patientID', 'StudyDate_x']].drop_duplicates())"
      ],
      "execution_count": 88,
      "outputs": [
        {
          "output_type": "execute_result",
          "data": {
            "text/plain": [
              "814"
            ]
          },
          "metadata": {
            "tags": []
          },
          "execution_count": 88
        }
      ]
    }
  ]
}